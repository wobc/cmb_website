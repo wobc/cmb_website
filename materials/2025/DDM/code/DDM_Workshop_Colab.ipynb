{
  "cells": [
    {
      "cell_type": "markdown",
      "metadata": {
        "id": "0LOebwBqM2IA"
      },
      "source": [
        "# Drift Diffusion Modeling Workshop - Colab Notebook (Using PyDDM)\n",
        "---\n",
        "## Setup\n",
        "First, we install the `pyddm` package if it's not already available in this Colab environment."
      ]
    },
    {
      "cell_type": "code",
      "execution_count": null,
      "metadata": {
        "id": "BoNOMOghM2IA"
      },
      "outputs": [],
      "source": [
        "!pip install pyddm --quiet"
      ]
    },
    {
      "cell_type": "markdown",
      "metadata": {
        "id": "ruU_IJUQM2IB"
      },
      "source": [
        "---\n",
        "## Imports\n",
        "Here are the essential packages we will use."
      ]
    },
    {
      "cell_type": "code",
      "execution_count": null,
      "metadata": {
        "id": "6U-OQYP1M2IB"
      },
      "outputs": [],
      "source": [
        "import numpy as np\n",
        "import pyddm\n",
        "import matplotlib.pyplot as plt"
      ]
    },
    {
      "cell_type": "markdown",
      "metadata": {
        "id": "FUo5luY_M2IB"
      },
      "source": [
        "---\n",
        "# STEP 1: Simulate Synthetic DDM Data\n",
        "---\n",
        "In this section, we\n",
        "- set up a model (with some parameters)\n",
        "- \"solve\" this model, meaning that some algorithm figures out how to quickly simulate the drift diffusion process with our parameters\n",
        "- simulate reaction time data with constant drift, boundary, and noise (we don't specify any value so the default ones will be used, except for drift otherwise it will be zero).\n",
        "\n",
        "Let's now plot the simulated RTs in a histogram separating correct and incorrect trials, + the accuracy of the model\n"
      ]
    },
    {
      "cell_type": "code",
      "execution_count": null,
      "metadata": {
        "id": "81FxkAncM2IB"
      },
      "outputs": [],
      "source": [
        "m = pyddm.gddm(drift=1, bound=1, nondecision=.1, T_dur=3)\n",
        "sol = m.solve()\n",
        "sample_sim = sol.sample(k=5000)\n",
        "plt.hist(sample_sim.choice_upper, bins=30, alpha=0.6, label=\"Correct (%.1fpc)\"%(100*sample_sim.prob('correct')))\n",
        "plt.hist(sample_sim.choice_lower, bins=30, alpha=0.6, label=\"Error\")\n",
        "plt.xlabel(\"Response Time (s)\")\n",
        "plt.ylabel(\"Count\")\n",
        "plt.title(\"Simulated DDM RT Distribution\")\n",
        "plt.legend()\n",
        "plt.show()"
      ]
    },
    {
      "cell_type": "markdown",
      "source": [
        "And here is a summary of the model"
      ],
      "metadata": {
        "id": "Buhw7Zv2Dc6A"
      }
    },
    {
      "cell_type": "code",
      "source": [
        "m.show()"
      ],
      "metadata": {
        "id": "W-37dWXRDfyL"
      },
      "execution_count": null,
      "outputs": []
    },
    {
      "cell_type": "markdown",
      "metadata": {
        "id": "ACE8wZaKM2IC"
      },
      "source": [
        "---\n",
        "# STEP 2: Fitting a Simple DDM to the Simulated Data\n",
        "---\n",
        "Here we create another model *BUT* with unspecified parameters.\n",
        "In other words, we prepare a \"blank\" model to be fit on our simulated data."
      ]
    },
    {
      "cell_type": "code",
      "execution_count": null,
      "metadata": {
        "id": "AdmLdUVfM2IC"
      },
      "outputs": [],
      "source": [
        "model_to_fit = pyddm.gddm(drift=\"d\", noise=1.0, bound=\"B\", nondecision=0.1, starting_position=0,\n",
        "                          parameters={\"d\": (0,2), \"B\": (0.3, 2)}, T_dur=3)\n",
        "model_to_fit.show()"
      ]
    },
    {
      "cell_type": "markdown",
      "source": [
        "# Let's now fit the \"to-be-fitted\" model to the samples!"
      ],
      "metadata": {
        "id": "R8RgeBZOE5qT"
      }
    },
    {
      "cell_type": "code",
      "execution_count": null,
      "metadata": {
        "id": "r5ZnmrTmM2ID"
      },
      "outputs": [],
      "source": [
        "model_to_fit.fit(sample_sim, lossfunction=pyddm.LossBIC, verbose=False)\n",
        "model_to_fit.show()\n",
        "model_to_fit.get_fit_result()"
      ]
    },
    {
      "cell_type": "markdown",
      "source": [
        "Let's vizualize!"
      ],
      "metadata": {
        "id": "-J_iRse5JLgR"
      }
    },
    {
      "cell_type": "code",
      "source": [
        "import pyddm.plot as ddmplot\n",
        "ddmplot.model_gui_jupyter(model_to_fit, sample=sample_sim)\n",
        "#ddmplot.model_gui_jupyter(ddm_model)"
      ],
      "metadata": {
        "id": "SFlHqyOdJOvf"
      },
      "execution_count": null,
      "outputs": []
    },
    {
      "cell_type": "markdown",
      "source": [
        "\n",
        "\n",
        "One additional thing you might want to do is simulate some data and get them in a csv format locally (on your computer). Here is how to do:"
      ],
      "metadata": {
        "id": "jM-crv1vNQ5q"
      }
    },
    {
      "cell_type": "code",
      "source": [
        "import pandas as pd\n",
        "from google.colab import files\n",
        "rt_data = pd.DataFrame({\n",
        "    \"rt\": np.concatenate([sample_sim.choice_upper, sample_sim.choice_lower]),\n",
        "    \"response\": [1]*len(sample_sim.choice_upper) + [0]*len(sample_sim.choice_lower)\n",
        "})\n",
        "\n",
        "rt_data.to_csv(\"ddm_sample_data.csv\", index=False)\n",
        "print(\"Saved example data to ddm_sample_data.csv\")\n",
        "files.download(\"ddm_sample_data.csv\")"
      ],
      "metadata": {
        "id": "QOuRetIqNdm-"
      },
      "execution_count": null,
      "outputs": []
    },
    {
      "cell_type": "markdown",
      "metadata": {
        "id": "2dtRlutXM2ID"
      },
      "source": [
        "---\n",
        "# STEP 3: using real human data\n",
        "---"
      ]
    },
    {
      "cell_type": "code",
      "source": [
        "!wget https://raw.githubusercontent.com/mehdisenoussi/misc_utils/refs/heads/main/sim_dataset/df_all_33pp_efficiencyTask.csv -O my_data.csv"
      ],
      "metadata": {
        "id": "7EPXWDbFAVJi"
      },
      "execution_count": null,
      "outputs": []
    },
    {
      "cell_type": "code",
      "source": [
        "# let's test things on one participant\n",
        "import pandas as pd\n",
        "from pyddm import Sample\n",
        "df = pd.read_csv(\"my_data.csv\")\n",
        "df.rt = df.rt/1000\n",
        "\n",
        "pp_data = df[df['sub']=='15']\n",
        "# cleaning data\n",
        "pp_data = pp_data[(pp_data['rt']>.200) & (pp_data['rt']<2.000)]\n"
      ],
      "metadata": {
        "id": "d0vMIncTAhKx"
      },
      "execution_count": null,
      "outputs": []
    },
    {
      "cell_type": "code",
      "source": [
        "plt.hist(pp_data.rt[pp_data.cor==1], bins=30)\n",
        "plt.hist(pp_data.rt[pp_data.cor==0], bins=30)\n"
      ],
      "metadata": {
        "id": "3KdDHBpKBAoX"
      },
      "execution_count": null,
      "outputs": []
    },
    {
      "cell_type": "markdown",
      "source": [
        "Let's create a sample based on our real data and define a model to fit this participant's data"
      ],
      "metadata": {
        "id": "WXt4kaQfOHZj"
      }
    },
    {
      "cell_type": "code",
      "source": [
        "pp_sample = Sample.from_pandas_dataframe(pp_data, rt_column_name=\"rt\", choice_column_name=\"cor\")\n",
        "model_to_fit_pp = pyddm.gddm(drift=\"d\", noise=1.0, bound=\"B\", nondecision=0.35, starting_position=0,\n",
        "                          parameters={\"d\": (0,4), \"B\": (0.1, 2)}, T_dur=2)\n",
        "model_to_fit_pp.fit(pp_sample, lossfunction=pyddm.LossBIC, verbose=False)\n",
        "#model_to_fit_pp.show()\n",
        "model_to_fit_pp.get_fit_result()"
      ],
      "metadata": {
        "id": "Va6uyaRPB1AZ"
      },
      "execution_count": null,
      "outputs": []
    },
    {
      "cell_type": "markdown",
      "source": [
        "Let's see if it looks good!"
      ],
      "metadata": {
        "id": "VOWP60bjO6_H"
      }
    },
    {
      "cell_type": "code",
      "source": [
        "ddmplot.model_gui_jupyter(model_to_fit_pp, sample=pp_sample)"
      ],
      "metadata": {
        "id": "5V8bdh4sO9qm"
      },
      "execution_count": null,
      "outputs": []
    }
  ],
  "metadata": {
    "kernelspec": {
      "display_name": "Python 3",
      "language": "python",
      "name": "python3"
    },
    "language_info": {
      "name": "python"
    },
    "colab": {
      "provenance": []
    }
  },
  "nbformat": 4,
  "nbformat_minor": 0
}