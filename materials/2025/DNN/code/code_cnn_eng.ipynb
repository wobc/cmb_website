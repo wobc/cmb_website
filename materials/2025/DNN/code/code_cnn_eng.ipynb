{
 "cells": [
  {
   "cell_type": "markdown",
   "id": "51b206b5",
   "metadata": {},
   "source": [
    "# Convolutional Neural Network\n",
    "\n",
    "Practical exampl for the programming of a convolutional neural network for image classification"
   ]
  },
  {
   "cell_type": "markdown",
   "id": "ac437f14",
   "metadata": {},
   "source": [
    "## Library import\n",
    "\n",
    "We load the necessary libraries."
   ]
  },
  {
   "cell_type": "code",
   "execution_count": 3,
   "id": "f73a801b",
   "metadata": {},
   "outputs": [],
   "source": [
    "import numpy as np\n",
    "import matplotlib.pyplot as plt\n",
    "import torch\n",
    "import torch.nn as nn\n",
    "import torch.nn.functional as F\n",
    "import torch.optim as optim\n",
    "from torch.utils.data import Dataset\n",
    "from sklearn.preprocessing import OneHotEncoder\n",
    "from sklearn.metrics import balanced_accuracy_score"
   ]
  },
  {
   "cell_type": "markdown",
   "id": "940e8679",
   "metadata": {},
   "source": [
    "## Load the Dataset\n",
    "\n",
    "We load file 'dataset.npz', which contains the MNIST images that we will use."
   ]
  },
  {
   "cell_type": "code",
   "execution_count": null,
   "id": "99271ccb",
   "metadata": {},
   "outputs": [],
   "source": [
    "import urllib.request\n",
    "import zipfile\n",
    "url = \"https://github.com/wobc/cmb_website/raw/main/materials/2025/DNN/code/dataset.npz.zip\"\n",
    "urllib.request.urlretrieve(url, \"dataset.npz.zip\")\n",
    "\n",
    "# Extract the zip file\n",
    "with zipfile.ZipFile(\"dataset.npz.zip\", 'r') as zip_ref:\n",
    "    zip_ref.extractall(\".\")\n",
    "    \n",
    "dataset = np.load('dataset.npz')\n",
    "data = dataset['data']\n",
    "labels = dataset['labels']"
   ]
  },
  {
   "cell_type": "markdown",
   "id": "9f6ea7e4",
   "metadata": {},
   "source": [
    "We visualize a few sample images to understand their format and structure."
   ]
  },
  {
   "cell_type": "code",
   "execution_count": 9,
   "id": "f0d5ab46",
   "metadata": {},
   "outputs": [
    {
     "data": {
      "text/plain": [
       "<matplotlib.image.AxesImage at 0x17befb050>"
      ]
     },
     "execution_count": 9,
     "metadata": {},
     "output_type": "execute_result"
    },
    {
     "data": {
      "image/png": "[encoded data removed]",
      "text/plain": [
       "<Figure size 640x480 with 1 Axes>"
      ]
     },
     "metadata": {},
     "output_type": "display_data"
    }
   ],
   "source": [
    "# Imagen 1\n",
    "plt.imshow(data[1,:])"
   ]
  },
  {
   "cell_type": "code",
   "execution_count": 10,
   "id": "6087ef03",
   "metadata": {},
   "outputs": [
    {
     "data": {
      "text/plain": [
       "<matplotlib.image.AxesImage at 0x17bf72bd0>"
      ]
     },
     "execution_count": 10,
     "metadata": {},
     "output_type": "execute_result"
    },
    {
     "data": {
      "image/png": "[encoded data removed]",
      "text/plain": [
       "<Figure size 640x480 with 1 Axes>"
      ]
     },
     "metadata": {},
     "output_type": "display_data"
    }
   ],
   "source": [
    "# Imagen 2\n",
    "plt.imshow(data[6,:])"
   ]
  },
  {
   "cell_type": "markdown",
   "id": "96822fb6",
   "metadata": {},
   "source": [
    "## Experimentos Setup\n",
    "\n",
    "It is essential to plan all the key components of a deep learning experiment in advance to understand what will be needed:\n",
    "- Data loading\n",
    "- Hyperparameter specification\n",
    "- Model creation\n",
    "- Results analysis\n",
    "\n",
    "It is important that the data used to train the model is different from the data used to evaluate its performance.\n",
    "To achieve this, we split the data (and corresponding labels) into training (90%) and testing (10%)."
   ]
  },
  {
   "cell_type": "code",
   "execution_count": 11,
   "id": "107cba7f",
   "metadata": {},
   "outputs": [],
   "source": [
    "# Train/test\n",
    "data_tr = data[0:int(data.shape[0]*0.9),:]\n",
    "data_te = data[int(data.shape[0]*0.9):,:]\n",
    "\n",
    "labels = labels.astype('float32')\n",
    "\n",
    "labels_tr = labels[0:int(data.shape[0]*0.9)]\n",
    "labels_te = labels[int(data.shape[0]*0.9):labels.shape[0]]"
   ]
  },
  {
   "cell_type": "markdown",
   "id": "953beb88",
   "metadata": {},
   "source": [
    "We use the Dataset class included in the PyTorch library to prepare the data for loading into the neural network."
   ]
  },
  {
   "cell_type": "code",
   "execution_count": 12,
   "id": "603089cb",
   "metadata": {},
   "outputs": [],
   "source": [
    "class Dataset(torch.utils.data.Dataset):\n",
    "  'Characterizes a dataset for PyTorch'\n",
    "  def __init__(self, data,labels):\n",
    "        'Initialization'\n",
    "        self.data = data.astype(np.float32)\n",
    "        self.labels = labels.astype(np.float32)\n",
    "        self.list_IDs=np.arange(data.shape[0])\n",
    "        \n",
    "  def __len__(self):\n",
    "        'Denotes the total number of samples'\n",
    "        return len(self.list_IDs)\n",
    "\n",
    "  def __getitem__(self, index):\n",
    "        'Generates one sample of data'\n",
    "        # Select sample\n",
    "        ID = self.list_IDs[index]\n",
    "        \n",
    "        #X = self.stack[ID,:].astype(np.float32) \n",
    "        X = self.data[ID,:] # I think it's not necessary because it's already converted to float32.\n",
    "        \n",
    "        X=np.expand_dims(X,0) # Expands the dimensions (we go from 3 to 4).\n",
    "        # Convolutional networks expect a 4D tensor: (batch_size, channels, height, width).\n",
    "        # If we have a 2D image, we need to add dimensions for:\n",
    "        # - Batch (first dimension)\n",
    "        # - Channels (second dimension)\n",
    "\n",
    "        X=torch.from_numpy(X)\n",
    "        \n",
    "        y = self.labels[ID]\n",
    "        \n",
    "        return X,y # Returns both the image and the label."
   ]
  },
  {
   "cell_type": "markdown",
   "id": "f2a85625",
   "metadata": {},
   "source": [
    "We create the training and test sets from the Dataset class."
   ]
  },
  {
   "cell_type": "code",
   "execution_count": 13,
   "id": "a83fb237",
   "metadata": {},
   "outputs": [],
   "source": [
    "training_set=Dataset(data_tr,labels_tr)\n",
    "testing_set=Dataset(data_te,labels_te)"
   ]
  },
  {
   "cell_type": "markdown",
   "id": "a94f30ee",
   "metadata": {},
   "source": [
    "Sometimes, the dataset is so large that it’s not possible to feed all the data into the neural network at once.\n",
    "This is especially common when using a GPU instead of a CPU for training—which is generally recommended when available.\n",
    "\n",
    "To handle this, we define a batch size, meaning only a subset of the data is passed to the network at a time.\n",
    "For example, batch_size = 8 means only 8 images are processed at once. All gradient-based computations, backpropagation, and resulting metrics are calculated only for those 8 images.\n",
    "\n",
    "What batch size should we choose?\n",
    "- For the training set: the largest size that doesn’t exceed your system’s memory.\n",
    "- For the test set: 1 — since once the network is trained, we want to evaluate predictions image by image.\n",
    "\n",
    "The other parameter we define is shuffle:\n",
    "- shuffle=True means the training data is randomly shuffled before each epoch. This helps prevent the model from memorizing the order of the data and improves generalization.\n",
    "- For the test set, the order doesn’t matter, so we set shuffle=False."
   ]
  },
  {
   "cell_type": "code",
   "execution_count": 14,
   "id": "54261ebb",
   "metadata": {},
   "outputs": [],
   "source": [
    "params_tr = {'batch_size': 100,\n",
    "                      'shuffle': True,}\n",
    "\n",
    "params_te = {'batch_size': 1,\n",
    "                      'shuffle': False}"
   ]
  },
  {
   "cell_type": "markdown",
   "id": "c9dd1d06",
   "metadata": {},
   "source": [
    "Based on the datasets and their parameters, we create a DataLoader (also a PyTorch class) to provide the neural network with easy and efficient access to the data"
   ]
  },
  {
   "cell_type": "code",
   "execution_count": 15,
   "id": "c4db60e0",
   "metadata": {},
   "outputs": [],
   "source": [
    "trainloader = torch.utils.data.DataLoader(training_set, **params_tr)\n",
    "testloader = torch.utils.data.DataLoader(testing_set, **params_te)"
   ]
  },
  {
   "cell_type": "markdown",
   "id": "3ca98f61",
   "metadata": {},
   "source": [
    "# Definition of the neural network"
   ]
  },
  {
   "cell_type": "code",
   "execution_count": 4,
   "id": "ddea96a5",
   "metadata": {},
   "outputs": [],
   "source": [
    "# Definition of the CNN architecture\n",
    "class network(nn.Module):\n",
    "    def __init__(self):\n",
    "        super(network, self).__init__()\n",
    "        # conv2d defines a convolutional layer. There are 3 main variables to adjust:\n",
    "        # 1) The number of input channels. For grayscale images, it's 1 channel. \n",
    "        #    For color images (RGB), it's 3 channels.\n",
    "        # 2) The number of output channels. This corresponds to the number of filters (kernels) \n",
    "        #    that will be applied. In the presentation, we saw how a single kernel works and \n",
    "        #    how the output is calculated using the dot product between the input and the kernel.\n",
    "        #    In convolutional networks, we compute many such filters instead of just one.\n",
    "        # 3) Kernel size: in the presentation example it was 3x3, here it's 2x2.\n",
    "        self.conv1 = nn.Conv2d(1, 32, kernel_size=3)\n",
    "        self.conv2 = nn.Conv2d(32, 64, kernel_size=3)\n",
    "        \n",
    "        self.max1 = nn.MaxPool2d(kernel_size=2)\n",
    "        self.max2 = nn.MaxPool2d(kernel_size=2)\n",
    "    \n",
    "        # Randomly sets to zero the percentage of weights specified in the input argument \n",
    "        # (in our case, 30%). This is done to prevent the model from overfitting to the \n",
    "        # training data, with the goal of improving its ability to generalize to the test data.\n",
    "        self.dropout = nn.Dropout(0.3)\n",
    "        \n",
    "        # It is crucial to know the size of the image at the input of the first fully connected layer.\n",
    "        self.fc = nn.Linear(1600, 128) \n",
    "        self.output = nn.Linear(128, 10)\n",
    "    \n",
    "    def forward(self, x):\n",
    "        x = self.conv1(x)\n",
    "        x = F.relu(x) # Activation function. Adds non-linearities to the model.\n",
    "        x = self.max1(x)\n",
    "        \n",
    "        x = self.conv2(x)\n",
    "        x = F.relu(x) # An activation function is added after each linear/convolutional layer.\n",
    "        x = self.max2(x)\n",
    "        \n",
    "        # Flatten the tensor. The resulting size must match the number of input neurons\n",
    "        x = self.fc(x)  # defined in this layer.\n",
    "        x = self.dropout(x)\n",
    "        x = self.output(x) \n",
    "                \n",
    "        return x"
   ]
  },
  {
   "cell_type": "markdown",
   "id": "b3884a21",
   "metadata": {},
   "source": [
    "# Training\n",
    "Now that we have the model designed, we need to create a function to define how the training will be carried out. \n",
    "In this function, we specify all the details and settings for how we want the training process to run."
   ]
  },
  {
   "cell_type": "code",
   "execution_count": 5,
   "id": "a9379b52",
   "metadata": {},
   "outputs": [],
   "source": [
    "def train_model(model, train_loader, test_loader, epochs=10, learning_rate=0.001):\n",
    "    # Function to train our neural network.\n",
    "    # When working with heavy data, such as 3D images (e.g., fMRI), it's highly recommended \n",
    "    # to run the training process on a GPU instead of the computer's CPU.\n",
    "    # In fact, PyTorch is designed to take advantage of the way GPUs perform computations.\n",
    "    # The following line checks whether the computer has a GPU, and if so,\n",
    "    # sends all the variables involved in this process to the GPU using CUDA tools.\n",
    "    # If no GPU is available (or desired), everything runs on the CPU by default.\n",
    "    device = torch.device(\"cuda\" if torch.cuda.is_available() else \"cpu\")\n",
    "    model = model.to(device) # Send the model to the selected device (GPU or CPU).\n",
    "    \n",
    "    # Although it's commonly named 'criterion', this is simply the loss function we discussed in the theory section.\n",
    "    # CrossEntropyLoss() is typically used for multi-class classification problems,\n",
    "    # while BCELoss() is used for binary classification problems involving only two classes.\n",
    "    criterion = nn.CrossEntropyLoss() \n",
    "    # criterion = nn.BCELoss()\n",
    "    \n",
    "    # The optimizer is used to control the step size during gradient descent.\n",
    "    optimizer = optim.Adam(model.parameters(), lr=learning_rate)\n",
    "    \n",
    "    # As we saw earlier, the input data passes through all the layers of the network until it reaches the output.\n",
    "    # There, the error is calculated using the loss function. Then, backpropagation occurs,\n",
    "    # adjusting the weights of all the neurons.\n",
    "    # Once all of this has happened, it means one epoch has passed.\n",
    "    # The training process requires repeating this weight adjustment multiple times (the exact number is unknown in advance).\n",
    "    # We'll implement this using a for loop, assigning a specific number of epochs.\n",
    "\n",
    "    for epoch in range(epochs):\n",
    "        model.train() # \"Notifies\" the model that it is going to be trained. Some layers, such as dropout,\n",
    "        # behave differently depending on whether the model is in training or evaluation mode,\n",
    "        # so it's important to clearly set the appropriate mode.\n",
    "        epoch_loss = []\n",
    "        for image,label in trainloader: # Nested loop to iterate over each \"image-label\" pair in the train_loader variable.\n",
    "            image = image.to(device) # Since we've sent the network to the selected device (GPU or CPU),\n",
    "            # the input variables must also be on the same device.\n",
    "            label = label.long()\n",
    "            label = label.to(device)\n",
    "            \n",
    "            # label = torch.argmax(label, dim=1)\n",
    "            \n",
    "            optimizer.zero_grad() # Resets the gradients so they don't accumulate at each iteration.\n",
    "            \n",
    "            output = model(image) # The image is fed into the network, and an output is obtained and stored in 'output'.\n",
    "            \n",
    "            # loss = criterion(output, label) # The loss is calculated based on the function defined in the 'criterion' variable.\n",
    "            loss = criterion(output, label)\n",
    "\n",
    "            loss.backward() # Backpropagation\n",
    "            optimizer.step() # Updates the weights of all the neurons of the network.\n",
    "            \n",
    "            epoch_loss.append(loss)\n",
    "            \n",
    "        print(\"[epoch %03d]  average training loss: %.4f\" % (epoch, sum(epoch_loss)/len(epoch_loss)))\n",
    "        \n",
    "    return model"
   ]
  },
  {
   "cell_type": "markdown",
   "id": "588bb0cd",
   "metadata": {},
   "source": [
    "# Test\n",
    "Similarly, we need to define a function to evaluate the images in the test set once the model has been trained."
   ]
  },
  {
   "cell_type": "code",
   "execution_count": 18,
   "id": "149c7e39",
   "metadata": {},
   "outputs": [],
   "source": [
    "def test_model(model,testloader):\n",
    "    model.eval() # The model is set to evaluation mode. Operations like dropout are disabled in this mode.\n",
    "    \n",
    "    model = model.to(device)\n",
    "    \n",
    "    predictions = []\n",
    "    labels_test = []\n",
    "    \n",
    "    with torch.no_grad():# Disables gradient calculation since we are in the test phase, not training.\n",
    "        for image,label in testloader: \n",
    "            image = image.to(device)\n",
    "            \n",
    "            output = model(image)\n",
    "            # print('Output = '+str(output))\n",
    "            _, prediction = output.max(1)\n",
    "            predictions.append(prediction.detach().numpy())\n",
    "            labels_test.append(label.numpy())\n",
    "            \n",
    "    \n",
    "    predictions = np.array(predictions)       \n",
    "    labels_test = np.array(labels_test)   \n",
    "            \n",
    "    return predictions,labels_test"
   ]
  },
  {
   "cell_type": "markdown",
   "id": "bf2a5fed",
   "metadata": {},
   "source": [
    "What we’ve done so far is define the network as well as the training and testing functions, but now we need to call them in order to have our model stored in a variable and apply the functions to it."
   ]
  },
  {
   "cell_type": "code",
   "execution_count": null,
   "id": "8f578897",
   "metadata": {},
   "outputs": [],
   "source": [
    "model = network()\n",
    "model = train_model(model, trainloader, testloader, epochs=3, learning_rate=0.001)\n",
    "predictions,labels_test = test_model(model,testloader)\n",
    "\n",
    "bal_acc = balanced_accuracy_score(labels_test,predictions)\n",
    "print('Balanced accuracy = '+str(bal_acc))"
   ]
  }
 ],
 "metadata": {
  "kernelspec": {
   "display_name": "Python 3 (ipykernel)",
   "language": "python",
   "name": "python3"
  },
  "language_info": {
   "codemirror_mode": {
    "name": "ipython",
    "version": 3
   },
   "file_extension": ".py",
   "mimetype": "text/x-python",
   "name": "python",
   "nbconvert_exporter": "python",
   "pygments_lexer": "ipython3",
   "version": "3.11.7"
  }
 },
 "nbformat": 4,
 "nbformat_minor": 5
}
